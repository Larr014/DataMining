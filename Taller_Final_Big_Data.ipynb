{
  "nbformat": 4,
  "nbformat_minor": 0,
  "metadata": {
    "colab": {
      "provenance": [],
      "authorship_tag": "ABX9TyPHCV8zT43ftfqFrNTwxAM7",
      "include_colab_link": true
    },
    "kernelspec": {
      "name": "python3",
      "display_name": "Python 3"
    },
    "language_info": {
      "name": "python"
    }
  },
  "cells": [
    {
      "cell_type": "markdown",
      "metadata": {
        "id": "view-in-github",
        "colab_type": "text"
      },
      "source": [
        "<a href=\"https://colab.research.google.com/github/Larr014/DataMining/blob/master/Taller_Final_Big_Data.ipynb\" target=\"_parent\"><img src=\"https://colab.research.google.com/assets/colab-badge.svg\" alt=\"Open In Colab\"/></a>"
      ]
    },
    {
      "cell_type": "markdown",
      "source": [
        "Nombre:"
      ],
      "metadata": {
        "id": "9Lc9Z9MqQDb2"
      }
    },
    {
      "cell_type": "markdown",
      "source": [
        "Video:"
      ],
      "metadata": {
        "id": "LducT8UeRNl9"
      }
    },
    {
      "cell_type": "markdown",
      "source": [
        "# Cargar Dataset"
      ],
      "metadata": {
        "id": "7o-sHFYJQGs7"
      }
    },
    {
      "cell_type": "code",
      "execution_count": null,
      "metadata": {
        "id": "CjrraWoaP8mR"
      },
      "outputs": [],
      "source": []
    },
    {
      "cell_type": "markdown",
      "source": [
        "# Exploración, limpieza y preparación de datos"
      ],
      "metadata": {
        "id": "s46ApKmtQeWX"
      }
    },
    {
      "cell_type": "code",
      "source": [],
      "metadata": {
        "id": "BqBvlUjmQ4k7"
      },
      "execution_count": null,
      "outputs": []
    },
    {
      "cell_type": "markdown",
      "source": [
        "## Inspecciona las 5 primeras filas"
      ],
      "metadata": {
        "id": "H405lr7bQ8Dj"
      }
    },
    {
      "cell_type": "code",
      "source": [],
      "metadata": {
        "id": "sHm0HuvcRM4B"
      },
      "execution_count": null,
      "outputs": []
    },
    {
      "cell_type": "markdown",
      "source": [
        "## Inspecciona los tipos de datos de cada feature"
      ],
      "metadata": {
        "id": "F4BV6hIrRQFH"
      }
    },
    {
      "cell_type": "code",
      "source": [],
      "metadata": {
        "id": "3Nza3Z6tRgF_"
      },
      "execution_count": null,
      "outputs": []
    },
    {
      "cell_type": "markdown",
      "source": [
        "## Elimina observaciones duplicadas"
      ],
      "metadata": {
        "id": "6DANv-UTR0oe"
      }
    },
    {
      "cell_type": "code",
      "source": [],
      "metadata": {
        "id": "GXAnUbhUR6O3"
      },
      "execution_count": null,
      "outputs": []
    },
    {
      "cell_type": "markdown",
      "source": [
        "## Categorización de features"
      ],
      "metadata": {
        "id": "ix_Jw5nmR6oU"
      }
    },
    {
      "cell_type": "code",
      "source": [],
      "metadata": {
        "id": "QlO9xxQjv-xS"
      },
      "execution_count": null,
      "outputs": []
    },
    {
      "cell_type": "markdown",
      "source": [
        "## Añadir feature total"
      ],
      "metadata": {
        "id": "fRRNyn1Wxr7U"
      }
    },
    {
      "cell_type": "markdown",
      "source": [
        "Incorpora una columna con el calculo de la cantidad y el precio"
      ],
      "metadata": {
        "id": "pvVXqnmky_bi"
      }
    },
    {
      "cell_type": "code",
      "source": [],
      "metadata": {
        "id": "D_jrdVotzHZG"
      },
      "execution_count": null,
      "outputs": []
    },
    {
      "cell_type": "markdown",
      "source": [
        "## Dividir los datos"
      ],
      "metadata": {
        "id": "PQ8d9M4w0Fj9"
      }
    },
    {
      "cell_type": "markdown",
      "source": [
        "Asegurese de explicar como dividio los datos"
      ],
      "metadata": {
        "id": "ukbKmr020qUC"
      }
    },
    {
      "cell_type": "code",
      "source": [],
      "metadata": {
        "id": "KyhU1q5B0pdT"
      },
      "execution_count": null,
      "outputs": []
    },
    {
      "cell_type": "markdown",
      "source": [
        "# Aplicación"
      ],
      "metadata": {
        "id": "JsFsHBX5zK2i"
      }
    },
    {
      "cell_type": "markdown",
      "source": [
        "# Algoritmo"
      ],
      "metadata": {
        "id": "rwg9KdoizSFy"
      }
    },
    {
      "cell_type": "markdown",
      "source": [
        "Considere la etiqueta tag como elemento de clasificacion"
      ],
      "metadata": {
        "id": "fJYMpzhn16vg"
      }
    },
    {
      "cell_type": "code",
      "source": [],
      "metadata": {
        "id": "_MMBeVpIzRgT"
      },
      "execution_count": null,
      "outputs": []
    },
    {
      "cell_type": "markdown",
      "source": [
        "## Entrenamiento"
      ],
      "metadata": {
        "id": "2ata_35y1C1f"
      }
    },
    {
      "cell_type": "code",
      "source": [],
      "metadata": {
        "id": "POz9hAfy1Fv5"
      },
      "execution_count": null,
      "outputs": []
    },
    {
      "cell_type": "markdown",
      "source": [
        "## Prueba y/o Validación"
      ],
      "metadata": {
        "id": "PBZCZ10x1HNr"
      }
    },
    {
      "cell_type": "code",
      "source": [],
      "metadata": {
        "id": "iUC0pXDq1Kb-"
      },
      "execution_count": null,
      "outputs": []
    },
    {
      "cell_type": "markdown",
      "source": [
        "## Resultados"
      ],
      "metadata": {
        "id": "JPPwYzdf1Mm0"
      }
    },
    {
      "cell_type": "markdown",
      "source": [
        "Asegurese de mostrar metricas de rendimiento"
      ],
      "metadata": {
        "id": "212VbhpT1Pa1"
      }
    },
    {
      "cell_type": "code",
      "source": [],
      "metadata": {
        "id": "O829GhIm1Ox8"
      },
      "execution_count": null,
      "outputs": []
    },
    {
      "cell_type": "markdown",
      "source": [
        "## Acciones de Mejora"
      ],
      "metadata": {
        "id": "2RFDQemP1apK"
      }
    },
    {
      "cell_type": "markdown",
      "source": [
        "Realice cambios en el algoritmo que permitan obtener mejoras en los resultados"
      ],
      "metadata": {
        "id": "pNKtkwQg1_Sw"
      }
    },
    {
      "cell_type": "code",
      "source": [],
      "metadata": {
        "id": "8BXugT4k1d5O"
      },
      "execution_count": null,
      "outputs": []
    }
  ]
}
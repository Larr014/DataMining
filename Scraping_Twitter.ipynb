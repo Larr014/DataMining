{
  "nbformat": 4,
  "nbformat_minor": 0,
  "metadata": {
    "colab": {
      "name": "Scraping Twitter",
      "provenance": [],
      "collapsed_sections": [],
      "authorship_tag": "ABX9TyMnVSxRKysO0Z7ZCLQp0KUg",
      "include_colab_link": true
    },
    "kernelspec": {
      "name": "python3",
      "display_name": "Python 3"
    }
  },
  "cells": [
    {
      "cell_type": "markdown",
      "metadata": {
        "id": "view-in-github",
        "colab_type": "text"
      },
      "source": [
        "<a href=\"https://colab.research.google.com/github/Larr014/DataMining/blob/master/Scraping_Twitter.ipynb\" target=\"_parent\"><img src=\"https://colab.research.google.com/assets/colab-badge.svg\" alt=\"Open In Colab\"/></a>"
      ]
    },
    {
      "cell_type": "markdown",
      "metadata": {
        "id": "9KzoCvvasDIN"
      },
      "source": [
        "Scraping"
      ]
    },
    {
      "cell_type": "code",
      "metadata": {
        "id": "FLdCaAURsCf7",
        "outputId": "5d52159b-a462-4842-9d42-b86cb1ac719b",
        "colab": {
          "base_uri": "https://localhost:8080/",
          "height": 241
        }
      },
      "source": [
        "!pip install snscrape"
      ],
      "execution_count": 1,
      "outputs": [
        {
          "output_type": "stream",
          "text": [
            "Collecting snscrape\n",
            "  Downloading https://files.pythonhosted.org/packages/81/dd/4a4ec9eedd8cc85ced7c5a6a23853965195203aec825ef3f7778a0c3b69e/snscrape-0.3.4-py3-none-any.whl\n",
            "Requirement already satisfied: beautifulsoup4 in /usr/local/lib/python3.6/dist-packages (from snscrape) (4.6.3)\n",
            "Requirement already satisfied: lxml in /usr/local/lib/python3.6/dist-packages (from snscrape) (4.2.6)\n",
            "Requirement already satisfied: requests[socks] in /usr/local/lib/python3.6/dist-packages (from snscrape) (2.23.0)\n",
            "Requirement already satisfied: urllib3!=1.25.0,!=1.25.1,<1.26,>=1.21.1 in /usr/local/lib/python3.6/dist-packages (from requests[socks]->snscrape) (1.24.3)\n",
            "Requirement already satisfied: idna<3,>=2.5 in /usr/local/lib/python3.6/dist-packages (from requests[socks]->snscrape) (2.10)\n",
            "Requirement already satisfied: chardet<4,>=3.0.2 in /usr/local/lib/python3.6/dist-packages (from requests[socks]->snscrape) (3.0.4)\n",
            "Requirement already satisfied: certifi>=2017.4.17 in /usr/local/lib/python3.6/dist-packages (from requests[socks]->snscrape) (2020.6.20)\n",
            "Requirement already satisfied: PySocks!=1.5.7,>=1.5.6; extra == \"socks\" in /usr/local/lib/python3.6/dist-packages (from requests[socks]->snscrape) (1.7.1)\n",
            "Installing collected packages: snscrape\n",
            "Successfully installed snscrape-0.3.4\n"
          ],
          "name": "stdout"
        }
      ]
    },
    {
      "cell_type": "code",
      "metadata": {
        "id": "NlR0pGYusRhS"
      },
      "source": [
        "import snscrape as sn"
      ],
      "execution_count": 3,
      "outputs": []
    },
    {
      "cell_type": "code",
      "metadata": {
        "id": "0Ypew02LxRn-",
        "outputId": "122c6c07-2267-4545-82cc-4d72891fa081",
        "colab": {
          "base_uri": "https://localhost:8080/",
          "height": 377
        }
      },
      "source": [
        "!snscrape twitter-search \"#covid since:2019-10-18 until:2020-05-20 place:47a3cf27863714de\" > covid19.txt"
      ],
      "execution_count": 16,
      "outputs": [
        {
          "output_type": "stream",
          "text": [
            "Traceback (most recent call last):\n",
            "  File \"/usr/local/bin/snscrape\", line 8, in <module>\n",
            "    sys.exit(main())\n",
            "  File \"/usr/local/lib/python3.6/dist-packages/snscrape/cli.py\", line 230, in main\n",
            "    for i, item in enumerate(scraper.get_items(), start = 1):\n",
            "  File \"/usr/local/lib/python3.6/dist-packages/snscrape/modules/twitter.py\", line 168, in get_items\n",
            "    r = self._get('https://api.twitter.com/2/search/adaptive.json', params = params, headers = headers, responseOkCallback = self._check_scroll_response)\n",
            "  File \"/usr/local/lib/python3.6/dist-packages/snscrape/base.py\", line 99, in _get\n",
            "    return self._request('GET', *args, **kwargs)\n",
            "  File \"/usr/local/lib/python3.6/dist-packages/snscrape/base.py\", line 55, in _request\n",
            "    req = self._session.prepare_request(requests.Request(method, url, params = params, data = data, headers = headers))\n",
            "  File \"/usr/local/lib/python3.6/dist-packages/requests/sessions.py\", line 455, in prepare_request\n",
            "    headers=merge_setting(request.headers, self.headers, dict_class=CaseInsensitiveDict),\n",
            "  File \"/usr/local/lib/python3.6/dist-packages/requests/sessions.py\", line 74, in merge_setting\n",
            "    none_keys = [k for (k, v) in merged_setting.items() if v is None]\n",
            "  File \"/usr/local/lib/python3.6/dist-packages/requests/sessions.py\", line 74, in <listcomp>\n",
            "    none_keys = [k for (k, v) in merged_setting.items() if v is None]\n",
            "  File \"/usr/lib/python3.6/_collections_abc.py\", line 743, in __iter__\n",
            "    for key in self._mapping:\n",
            "KeyboardInterrupt\n"
          ],
          "name": "stdout"
        }
      ]
    },
    {
      "cell_type": "code",
      "metadata": {
        "id": "-IsuuC0uzEdO"
      },
      "source": [
        "import pandas as pd, tweepy"
      ],
      "execution_count": 25,
      "outputs": []
    },
    {
      "cell_type": "code",
      "metadata": {
        "id": "zX6i7RYczFX8"
      },
      "source": [
        "api_key = 'W4VVKXoiI4DvXAKRNAVM2lIYi'\n",
        "api_secret_key = 'CIbGDy6q0NHjYbQuWma7JiJqktrCLhAE2p5XGWBI0OcyjBrZ2O'\n",
        "access_token = '970834766-wwO6paU1zzGYpv4xaPOofF5jgOJOVS4qffkZvSOa'\n",
        "access_token_secret = 'JubXYvsEfWvSwxHX7Z6sKJHh0QmHDaCynwBeY8CSo0Nnx'\n",
        "auth = tweepy.OAuthHandler(api_key, api_secret_key) \n",
        "auth.set_access_token(access_token, access_token_secret)\n",
        "api = tweepy.API(auth)"
      ],
      "execution_count": 27,
      "outputs": []
    },
    {
      "cell_type": "code",
      "metadata": {
        "id": "YQkz2BxqzLWe",
        "outputId": "5db411db-32e6-4f6b-9f39-133805d8e7cb",
        "colab": {
          "base_uri": "https://localhost:8080/",
          "height": 204
        }
      },
      "source": [
        "tweet_url = pd.read_csv(\"covid19.txt\", index_col= None, header = None, names = [\"links\"])\n",
        "tweet_url.head()"
      ],
      "execution_count": 28,
      "outputs": [
        {
          "output_type": "execute_result",
          "data": {
            "text/html": [
              "<div>\n",
              "<style scoped>\n",
              "    .dataframe tbody tr th:only-of-type {\n",
              "        vertical-align: middle;\n",
              "    }\n",
              "\n",
              "    .dataframe tbody tr th {\n",
              "        vertical-align: top;\n",
              "    }\n",
              "\n",
              "    .dataframe thead th {\n",
              "        text-align: right;\n",
              "    }\n",
              "</style>\n",
              "<table border=\"1\" class=\"dataframe\">\n",
              "  <thead>\n",
              "    <tr style=\"text-align: right;\">\n",
              "      <th></th>\n",
              "      <th>links</th>\n",
              "    </tr>\n",
              "  </thead>\n",
              "  <tbody>\n",
              "    <tr>\n",
              "      <th>0</th>\n",
              "      <td>https://twitter.com/jlcainzo/status/1259978235...</td>\n",
              "    </tr>\n",
              "    <tr>\n",
              "      <th>1</th>\n",
              "      <td>https://twitter.com/Nino_Mundaca/status/125956...</td>\n",
              "    </tr>\n",
              "    <tr>\n",
              "      <th>2</th>\n",
              "      <td>https://twitter.com/WalmartSil/status/12595008...</td>\n",
              "    </tr>\n",
              "    <tr>\n",
              "      <th>3</th>\n",
              "      <td>https://twitter.com/RNchile/status/12566142710...</td>\n",
              "    </tr>\n",
              "    <tr>\n",
              "      <th>4</th>\n",
              "      <td>https://twitter.com/iglesiachile/status/125530...</td>\n",
              "    </tr>\n",
              "  </tbody>\n",
              "</table>\n",
              "</div>"
            ],
            "text/plain": [
              "                                               links\n",
              "0  https://twitter.com/jlcainzo/status/1259978235...\n",
              "1  https://twitter.com/Nino_Mundaca/status/125956...\n",
              "2  https://twitter.com/WalmartSil/status/12595008...\n",
              "3  https://twitter.com/RNchile/status/12566142710...\n",
              "4  https://twitter.com/iglesiachile/status/125530..."
            ]
          },
          "metadata": {
            "tags": []
          },
          "execution_count": 28
        }
      ]
    },
    {
      "cell_type": "code",
      "metadata": {
        "id": "M2VNI7PgzdOV"
      },
      "source": [
        "af = lambda x: x[\"links\"].split(\"/\")[-1]\n",
        "tweet_url['id'] = tweet_url.apply(af, axis=1)"
      ],
      "execution_count": 29,
      "outputs": []
    },
    {
      "cell_type": "code",
      "metadata": {
        "id": "lDYBVBV7zhm9",
        "outputId": "82180715-a94d-4c58-fb4f-0abe8c239673",
        "colab": {
          "base_uri": "https://localhost:8080/",
          "height": 238
        }
      },
      "source": [
        "ids = tweet_url['id'].tolist()\n",
        "ids"
      ],
      "execution_count": 34,
      "outputs": [
        {
          "output_type": "execute_result",
          "data": {
            "text/plain": [
              "['1259978235330416645',\n",
              " '1259569193957163010',\n",
              " '1259500834892722177',\n",
              " '1256614271020040197',\n",
              " '1255305456563740673',\n",
              " '1253131637686140931',\n",
              " '1251935774314020864',\n",
              " '1251615030115696642',\n",
              " '1248296022725537792',\n",
              " '1247186154505547777',\n",
              " '1245129520690143237',\n",
              " '1243305823809540098',\n",
              " '1242251055519404032']"
            ]
          },
          "metadata": {
            "tags": []
          },
          "execution_count": 34
        }
      ]
    },
    {
      "cell_type": "code",
      "metadata": {
        "id": "vJvpZBc4z8bt"
      },
      "source": [
        "def get_tweet_by_id(id):\n",
        "    tweet = api.get_status(id)\n",
        "    print(tweet.text)"
      ],
      "execution_count": 37,
      "outputs": []
    },
    {
      "cell_type": "code",
      "metadata": {
        "id": "xE1aoAK83MmY",
        "outputId": "469505ae-5ca0-41bf-cc8b-40c9ae0c57e6",
        "colab": {
          "base_uri": "https://localhost:8080/",
          "height": 513
        }
      },
      "source": [
        "for x in ids:\n",
        "  get_tweet_by_id(x)"
      ],
      "execution_count": 39,
      "outputs": [
        {
          "output_type": "stream",
          "text": [
            "#COVIDー19Chile #pandemia #COVID La Alimentación es vital para combatir el virus, nuestras defensas tienen y deben e… https://t.co/Yd6tqkABwf\n",
            "🇨🇱 #Chile #coronavirus  #QuedateEnCasa\n",
            "A cuidarse más aún ‼️\n",
            "\n",
            "#COVID-19 y la ilusión de que podemos frenar un tren… https://t.co/5vX5eqHgSX\n",
            "🔴 Con orgullo reconocemos el esfuerzo incansable de las compañeras q son madres, que con fuerza enfrentan estos tie… https://t.co/uizwpogpBZ\n",
            "Acabamos de tener la cifra más alta de contagiados en un solo día. 1427 casos de #COVID.\n",
            "\n",
            "Este fin de semana, respo… https://t.co/yLvVcKg88B\n",
            "Red Clamor Chile en solidaridad con migrantes afectados por #pandemia: Ante dramática situación viven bolivianos va… https://t.co/htNUmilXGr\n",
            "El #covid cambia el color de la piel . (2 casos )\n",
            "#Predicciones2020 Abril, Mayo y Junio meses que el virus #COVID no decae en Chile. \n",
            " Un llamado al Gobierno a no ar… https://t.co/xQ3tcBDagY\n",
            "#Chile #ComunadeIndependencia \n",
            "Muy cerca del Mall procedimiento por contagiado #COVID @jmanalich @Cooperativa… https://t.co/5WQZGUnm94\n",
            "#COVIDー19 #Covid_19 #Predicciones2020 #COVID #PandemiaCoronavirus El agua tiene una estrecha relación con este viru… https://t.co/I47aK1rV49\n",
            "#SeamosResponsables 💣\n",
            "Yo me contagie (nadie me contagió), porque no fui tan responsable en cuidarme, no mantuve la… https://t.co/QX8pCDRwN1\n",
            "#Ruta5Sur en tiempos de #COVID-19.\n",
            ".\n",
            "Siempre hay momentos para las fotos 📸, taco kilométrico para ingresar a la Reg… https://t.co/8p8cXQjTSj\n",
            "🙏\n",
            "     Será el Principio del fin..!??\n",
            "#COVID\n",
            "🙏\n",
            "Francia autorizó el tratamiento del coronavirus con cloroquina propu… https://t.co/f2KfugJSwA\n",
            "CHILEAN LAKES DISTRICT - BEST PLACE TO TRAVEL DURING THE CORONAVIRUS EPIDEMIC  - https://t.co/jsPkh9OFwr 📲\n",
            "#Travel… https://t.co/kzumxPo15N\n"
          ],
          "name": "stdout"
        }
      ]
    }
  ]
}